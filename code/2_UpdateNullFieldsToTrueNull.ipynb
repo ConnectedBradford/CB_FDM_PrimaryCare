{
 "cells": [
  {
   "cell_type": "code",
   "execution_count": 1,
   "id": "d158a06c-ec9e-49b4-8370-7cdbc072b9f8",
   "metadata": {},
   "outputs": [
    {
     "name": "stderr",
     "output_type": "stream",
     "text": [
      "\n",
      "Attaching package: ‘lubridate’\n",
      "\n",
      "\n",
      "The following objects are masked from ‘package:base’:\n",
      "\n",
      "    date, intersect, setdiff, union\n",
      "\n",
      "\n"
     ]
    },
    {
     "name": "stdout",
     "output_type": "stream",
     "text": [
      "[1] \"yhcr-prd-phm-bia-core.CB_MYSPACE_JDB\"\n"
     ]
    }
   ],
   "source": [
    "#UpdateAllNullFieldsToTrueNull.ipynb\n",
    "#Set your target dataset below\n",
    "\n",
    "library(bigrquery)\n",
    "library(lubridate) # required for datetime\n",
    "\n",
    "# Store the project ID\n",
    "project_id = \"yhcr-prd-phm-bia-core\"\n",
    "\n",
    "# Set the targetdb ie teh dataset you want it to action\n",
    "sourcedb <-'yhcr-prd-phm-bia-core.CB_MYSPACE_JDB'\n",
    "sourcedb <-gsub(' ','',sourcedb)\n",
    "print (sourcedb)"
   ]
  },
  {
   "cell_type": "code",
   "execution_count": 3,
   "id": "dd0b9715-93f8-49e0-8ac2-494cf62cb8a4",
   "metadata": {},
   "outputs": [
    {
     "name": "stdout",
     "output_type": "stream",
     "text": [
      "[1] \"tables set\"\n"
     ]
    }
   ],
   "source": [
    "#Your loop references this table\n",
    "#You run this to load the list of tables into the dataframe \"table\"\n",
    "\n",
    "sql3 <-paste('select table_name, column_name  from ' ,sourcedb,'.INFORMATION_SCHEMA.COLUMNS where data_type = \"STRING\" \n",
    "and (column_name like \"%Date%\" or column_name like \"%dt%\" or column_name like \"%time%\")  ;', sep = \"\")\n",
    "tb3 <- bq_project_query(project_id, sql3)\n",
    "\n",
    "table <- bq_table_download(tb3)\n",
    "\n",
    "#table \n",
    "print(\"tables set\")"
   ]
  },
  {
   "cell_type": "code",
   "execution_count": 4,
   "id": "419fc510-942a-4d2d-92ba-e5efd486b857",
   "metadata": {},
   "outputs": [
    {
     "name": "stdout",
     "output_type": "stream",
     "text": [
      "[1] \"Done all nulls -  2024-02-08 13:40:37.247167\"\n",
      "[1] \"Now open and run Qapp_PrimaryCareStagingBuilder_Deltas  in BigQuery\"\n"
     ]
    }
   ],
   "source": [
    "#This then loops through the data frame until the end\n",
    "# uses the two variables table[[i, 1]] and table[[i, 2]]\n",
    "# in the query\n",
    "\n",
    "for(i in 2:nrow(table)) \n",
    "{\n",
    "# for-loop over columns\n",
    "#    print(paste0(\"Table: \", table[[i, 1]]))\n",
    "#    print(paste0(\"Table: \", table[[i, 2]]))\n",
    "    temp_sql_query  <-paste('update ' ,sourcedb,'.',table[[i, 1]] ,' set ', table[[i, 2]] ,' = null where ', table[[i, 2]] , ' = \"NULL\"'  , sep = \"\") \n",
    "    #print (temp_sql_query)    \n",
    "    temp_queried_table <- bq_project_query(project_id, temp_sql_query)\n",
    "    #section below just brings this back to R \n",
    "    #temp_table <- bq_table_download(temp_queried_table)\n",
    "\n",
    "    #Prints out a confirmation message for each update\n",
    "    #print(paste0(\"Done: \", table[[1, 1]],' ', table[[1, 2]]))\n",
    "    #cat(\"\\n\")\n",
    "}\n",
    "\n",
    "\n",
    "eric <- paste(\"Done all nulls -  \"  ,Sys.time() + hours(0) ,sep = \"\")\n",
    "print(eric)\n",
    "\n",
    "\n",
    "#print(\"Now open and run Qapp_PrimaryCareStagingBuilder_Deltas  in BigQuery\" )\n",
    "# Superceded with New Juypter script "
   ]
  }
 ],
 "metadata": {
  "environment": {
   "kernel": "ir",
   "name": "r-cpu.4-2.m110",
   "type": "gcloud",
   "uri": "gcr.io/deeplearning-platform-release/r-cpu.4-2:m110"
  },
  "kernelspec": {
   "display_name": "R",
   "language": "R",
   "name": "ir"
  },
  "language_info": {
   "codemirror_mode": "r",
   "file_extension": ".r",
   "mimetype": "text/x-r-source",
   "name": "R",
   "pygments_lexer": "r",
   "version": "4.3.1"
  }
 },
 "nbformat": 4,
 "nbformat_minor": 5
}
