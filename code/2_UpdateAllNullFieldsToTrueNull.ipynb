{
 "cells": [
  {
   "cell_type": "code",
   "execution_count": 1,
   "id": "d158a06c-ec9e-49b4-8370-7cdbc072b9f8",
   "metadata": {},
   "outputs": [
    {
     "name": "stdout",
     "output_type": "stream",
     "text": [
      "[1] \"yhcr-prd-phm-bia-core.CB_MYSPACE_JDB\"\n"
     ]
    }
   ],
   "source": [
    "#UpdateAllNullFieldsToTrueNull.ipynb\n",
    "#Set your target dataset below\n",
    "\n",
    "library(bigrquery)\n",
    "\n",
    "# Store the project ID\n",
    "project_id = \"yhcr-prd-phm-bia-core\"\n",
    "\n",
    "# Set the targetdb ie teh dataset you want it to action\n",
    "sourcedb <-'yhcr-prd-phm-bia-core.CB_MYSPACE_JDB'\n",
    "sourcedb <-gsub(' ','',sourcedb)\n",
    "print (sourcedb)"
   ]
  },
  {
   "cell_type": "code",
   "execution_count": 3,
   "id": "dd0b9715-93f8-49e0-8ac2-494cf62cb8a4",
   "metadata": {},
   "outputs": [
    {
     "name": "stdout",
     "output_type": "stream",
     "text": [
      "[1] \"tables set\"\n"
     ]
    }
   ],
   "source": [
    "#Your loop references this table\n",
    "#You run this to load the list of tables into the dataframe \"table\"\n",
    "\n",
    "sql3 <-paste('select table_name, column_name  from ' ,sourcedb,'.INFORMATION_SCHEMA.COLUMNS where data_type = \"STRING\";', sep = \"\")\n",
    "tb3 <- bq_project_query(project_id, sql3)\n",
    "\n",
    "table <- bq_table_download(tb3)\n",
    "#table \n",
    "print(\"tables set\")"
   ]
  },
  {
   "cell_type": "code",
   "execution_count": null,
   "id": "419fc510-942a-4d2d-92ba-e5efd486b857",
   "metadata": {},
   "outputs": [],
   "source": [
    "#This then loops through the data frame until the end\n",
    "# uses the two variables table[[i, 1]] and table[[i, 2]]\n",
    "# in the query\n",
    "\n",
    "for(i in 2:nrow(table)) \n",
    "{\n",
    "# for-loop over columns\n",
    "#    print(paste0(\"Table: \", table[[i, 1]]))\n",
    "#    print(paste0(\"Table: \", table[[i, 2]]))\n",
    "    temp_sql_query  <-paste('update ' ,sourcedb,'.',table[[i, 1]] ,' set ', table[[i, 2]] ,' = null where ', table[[i, 2]] , ' = \"NULL\"'  , sep = \"\") \n",
    "    #print (temp_sql_query)    \n",
    "    temp_queried_table <- bq_project_query(project_id, temp_sql_query)\n",
    "    #section below just brings this back to R \n",
    "    #temp_table <- bq_table_download(temp_queried_table)\n",
    "\n",
    "    #Prints out a confirmation message for each update\n",
    "    #print(paste0(\"Done: \", table[[1, 1]],' ', table[[1, 2]]))\n",
    "    #cat(\"\\n\")\n",
    "}\n",
    "\n",
    "print (\"Done all nulls\") \n"
   ]
  }
 ],
 "metadata": {
  "environment": {
   "kernel": "ir",
   "name": "r-cpu.4-2.m104",
   "type": "gcloud",
   "uri": "gcr.io/deeplearning-platform-release/r-cpu.4-2:m104"
  },
  "kernelspec": {
   "display_name": "R",
   "language": "R",
   "name": "ir"
  },
  "language_info": {
   "codemirror_mode": "r",
   "file_extension": ".r",
   "mimetype": "text/x-r-source",
   "name": "R",
   "pygments_lexer": "r",
   "version": "4.2.2"
  }
 },
 "nbformat": 4,
 "nbformat_minor": 5
}
