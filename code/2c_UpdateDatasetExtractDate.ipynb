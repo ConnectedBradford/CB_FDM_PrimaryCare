{
 "cells": [
  {
   "cell_type": "code",
   "execution_count": 1,
   "id": "b7d9bcf4-7811-4818-b8ed-d79dff799a80",
   "metadata": {},
   "outputs": [
    {
     "name": "stderr",
     "output_type": "stream",
     "text": [
      "\n",
      "Attaching package: ‘lubridate’\n",
      "\n",
      "\n",
      "The following objects are masked from ‘package:base’:\n",
      "\n",
      "    date, intersect, setdiff, union\n",
      "\n",
      "\n"
     ]
    },
    {
     "name": "stdout",
     "output_type": "stream",
     "text": [
      "[1] \"yhcr-prd-phm-bia-core.CB_STAGING_DATABASE_PrimaryCare\"\n",
      "[1] \"yhcr-prd-phm-bia-core.CB_FDM_PrimaryCare_V9\"\n"
     ]
    }
   ],
   "source": [
    "#Q2c_UpdateDatasetExtractDate.ipynb - last modified 202300629\n",
    "## 20230302 - Builth this new file to update teh dataset extarct date seperately.\n",
    "\n",
    "\n",
    "#Part of the PrimaryCare FDM\n",
    "#Assumes that the targetdb below exists\n",
    "#Needs code to build it if it doesn't\n",
    "# file location - https://github.com/ConnectedBradford/CB_FDM_PrimaryCare/tree/main\n",
    "\n",
    "#You will need to manually amend the target dataset for this script\n",
    "\n",
    "library(bigrquery)\n",
    "library(lubridate) # required for datetime\n",
    "\n",
    "# Store the project ID\n",
    "project_id = \"yhcr-prd-phm-bia-core\"\n",
    "\n",
    "sourcedb <-\"yhcr-prd-phm-bia-core.CB_STAGING_DATABASE_PrimaryCare\"\n",
    "targetdb <-'yhcr-prd-phm-bia-core.CB_FDM_PrimaryCare_V9'\n",
    "targetdb <-gsub(' ','',targetdb)\n",
    "print (sourcedb) \n",
    "print (targetdb)"
   ]
  },
  {
   "cell_type": "code",
   "execution_count": 2,
   "id": "7fa2e95b-53a9-4a75-9224-f79029974942",
   "metadata": {},
   "outputs": [
    {
     "name": "stdout",
     "output_type": "stream",
     "text": [
      "[1] \"Updated -  2024-02-08 15:49:08.643809\"\n"
     ]
    }
   ],
   "source": [
    "#Ensure you have updated the lookup table ie\n",
    "\n",
    "#This will automatically update the extract date with the max(DateEventRcorded) from SRCode \n",
    "#as that is the end date.\n",
    "#sql13 <- paste('update yhcr-prd-phm-bia-core.CB_FDM_Management.cb_source_data_list set updated_date = (select cast(max(DateEventRecorded) as date) \n",
    "#from ',sourcedb,'.tbl_SRCode) where dataset = \\'CB_STAGING_DATABASE_PrimaryCare\\'', sep = \"\")\n",
    "#print (sql13)\n",
    "#tb13 <- bq_project_query(project_id, sql13)\n",
    "\n",
    "#This will manually update the same record\n",
    "\n",
    "sql14 <- \"update `yhcr-prd-phm-bia-core.CB_FDM_Management.cb_source_data_list` set updated_date = '2024-02-08' where dataset = \\'CB_STAGING_DATABASE_PrimaryCare\\'\"  \n",
    "\n",
    "tb14 <- bq_project_query(project_id, sql14)\n",
    "\n",
    "\n",
    "eric <- paste(\"Updated -  \"  ,Sys.time() + hours(0) ,sep = \"\")\n",
    "print(eric)\n"
   ]
  }
 ],
 "metadata": {
  "environment": {
   "kernel": "ir",
   "name": "r-cpu.4-2.m110",
   "type": "gcloud",
   "uri": "gcr.io/deeplearning-platform-release/r-cpu.4-2:m110"
  },
  "kernelspec": {
   "display_name": "R",
   "language": "R",
   "name": "ir"
  },
  "language_info": {
   "codemirror_mode": "r",
   "file_extension": ".r",
   "mimetype": "text/x-r-source",
   "name": "R",
   "pygments_lexer": "r",
   "version": "4.3.1"
  }
 },
 "nbformat": 4,
 "nbformat_minor": 5
}
